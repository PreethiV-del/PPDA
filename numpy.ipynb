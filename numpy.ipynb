{
  "nbformat": 4,
  "nbformat_minor": 0,
  "metadata": {
    "colab": {
      "provenance": [],
      "authorship_tag": "ABX9TyN/u6/42fq/bIHpVeOoBJbY",
      "include_colab_link": true
    },
    "kernelspec": {
      "name": "python3",
      "display_name": "Python 3"
    },
    "language_info": {
      "name": "python"
    }
  },
  "cells": [
    {
      "cell_type": "markdown",
      "metadata": {
        "id": "view-in-github",
        "colab_type": "text"
      },
      "source": [
        "<a href=\"https://colab.research.google.com/github/PreethiV-del/PPDA/blob/main/numpy.ipynb\" target=\"_parent\"><img src=\"https://colab.research.google.com/assets/colab-badge.svg\" alt=\"Open In Colab\"/></a>"
      ]
    },
    {
      "cell_type": "code",
      "execution_count": null,
      "metadata": {
        "colab": {
          "base_uri": "https://localhost:8080/"
        },
        "id": "-O7hxjJZx25v",
        "outputId": "d7280564-4a45-4e12-acf5-06400e1fa3ab"
      },
      "outputs": [
        {
          "output_type": "stream",
          "name": "stdout",
          "text": [
            "[6 7 5 8 0 1]\n",
            "Type: <class 'numpy.ndarray'>\n",
            "Shape: (6,)\n",
            "Size: 6\n",
            "Dimensions: 1\n",
            "Data type: int64\n",
            "Item_Size: 8\n",
            "total_memory: = 48 bytes\n"
          ]
        }
      ],
      "source": [
        "import numpy as np\n",
        "\n",
        "# Creating a 1D NumPy array\n",
        "data1 = [6, 7, 5, 8, 0, 1]   #it is a list\n",
        "arr1 = np.array(data1)       # list --> converts to ndarray\n",
        "\n",
        "print(arr1) # [6 7 5 8 0 1]\n",
        "print(\"Type:\",type(arr1))     # Type: <class 'numpy.ndarray'>\n",
        "print(\"Shape:\", arr1.shape)    # Shape: (6,)\n",
        "print(\"Size:\",arr1.size)       # Size: 6\n",
        "print(\"Dimensions:\", arr1.ndim)     # Dimensions: 1\n",
        "print(\"Data type:\", arr1.dtype)     # Data type: int64\n",
        "print(\"Item_Size:\",arr1.itemsize)       # size in bytes of each element of the array.\n",
        "print(\"total_memory: =\", arr1.size * arr1.itemsize,\"bytes\")"
      ]
    },
    {
      "cell_type": "code",
      "source": [
        "import numpy as np\n",
        "\n",
        "# Creating a 2D NumPy array from a list of lists\n",
        "data2 = [[1, 2, 3, 4], [5, 6, 7, 8]]\n",
        "arr2 = np.array(data2)\n",
        "\n",
        "print(\"Dimensions:\", arr2.ndim)   # Output: 2\n",
        "print(\"Shape:\", arr2.shape)       # Output: (2,4)\n",
        "print(arr2[1])                    # [5,6,7,8]"
      ],
      "metadata": {
        "colab": {
          "base_uri": "https://localhost:8080/"
        },
        "id": "6VwXCXpxyzgl",
        "outputId": "cb450940-cdb4-448d-91f4-97e85535bf04"
      },
      "execution_count": null,
      "outputs": [
        {
          "output_type": "stream",
          "name": "stdout",
          "text": [
            "Dimensions: 2\n",
            "Shape: (2, 4)\n",
            "[5 6 7 8]\n"
          ]
        }
      ]
    },
    {
      "cell_type": "code",
      "source": [
        "import numpy as np\n",
        "\n",
        "# 1D array\n",
        "d1 = np.array([1, 2, 3, 4, 5, 6, 7, 8, 9, 10, 11, 12])\n",
        "\n",
        "# 2D array\n",
        "d2 = np.array([[1, 2, 3], [4, 5, 6], [7, 8, 9], [10, 11, 12]])\n",
        "\n",
        "# 3D array\n",
        "d3 = np.array([[[1, 2, 3], [4, 5, 6]], [[7, 8, 9], [10, 11, 12]]])\n",
        "\n",
        "print(\"Shape of 1D array:\", d1.shape)\n",
        "print(\"Shape of 2D array:\", d2.shape)\n",
        "print(\"Shape of 3D array:\", d3.shape)"
      ],
      "metadata": {
        "id": "Rs4rO8xj1YQ8",
        "outputId": "1aa8f93f-868f-4d03-c475-20d4f5a564cd",
        "colab": {
          "base_uri": "https://localhost:8080/"
        }
      },
      "execution_count": null,
      "outputs": [
        {
          "output_type": "stream",
          "name": "stdout",
          "text": [
            "Shape of 1D array: (12,)\n",
            "Shape of 2D array: (4, 3)\n",
            "Shape of 3D array: (2, 2, 3)\n"
          ]
        }
      ]
    },
    {
      "cell_type": "code",
      "source": [
        "import numpy as np\n",
        "\n",
        "array1 = np.array([[0, 1, 2], [2, 3, 4]]) # Manual creation\n",
        "array2 = np.array( [ [1,2], [3,4] ], dtype=float) # Specifying data type\n",
        "array3 = np.zeros((2, 3)) # Array of zeros\n",
        "array4 = np.ones((2, 3)) # Array of ones\n",
        "array5 = np.eye(3) # Identity matrix\n",
        "array6 = np.arange(0, 10, 2) # Sequence from 0 to 8 with step 2\n",
        "array7 = np.linspace(0, 10, 5) # create 5 elements in between 0 to 10 with equal space\n",
        "array8 = np.random.randint(0, 10, (3, 3)) # Random integers in a 3x3 array\n",
        "\n",
        "print(array1, \"\\n\")\n",
        "print(array2, \"\\n\")\n",
        "print(array3, \"\\n\")\n",
        "print(array4, \"\\n\")\n",
        "print(array5, \"\\n\")\n",
        "print(array6, \"\\n\")\n",
        "print(array7, \"\\n\")\n",
        "print(array8, \"\\n\")"
      ],
      "metadata": {
        "colab": {
          "base_uri": "https://localhost:8080/"
        },
        "id": "Ie7-6Uxw4DDm",
        "outputId": "03c6baf4-2f10-4e7e-8965-0c2eb5b2ac15"
      },
      "execution_count": 4,
      "outputs": [
        {
          "output_type": "stream",
          "name": "stdout",
          "text": [
            "[[0 1 2]\n",
            " [2 3 4]] \n",
            "\n",
            "[[1. 2.]\n",
            " [3. 4.]] \n",
            "\n",
            "[[0. 0. 0.]\n",
            " [0. 0. 0.]] \n",
            "\n",
            "[[1. 1. 1.]\n",
            " [1. 1. 1.]] \n",
            "\n",
            "[[1. 0. 0.]\n",
            " [0. 1. 0.]\n",
            " [0. 0. 1.]] \n",
            "\n",
            "[0 2 4 6 8] \n",
            "\n",
            "[ 0.   2.5  5.   7.5 10. ] \n",
            "\n",
            "[[5 7 2]\n",
            " [9 9 2]\n",
            " [3 8 1]] \n",
            "\n"
          ]
        }
      ]
    },
    {
      "cell_type": "code",
      "source": [
        "import numpy as np\n",
        "\n",
        "arr = np.arange(10)\n",
        "print(\"Original array:\", arr) # Original array: [0 1 2 3 4 5 6 7 8 9]\n",
        "print(\"Element at index 5:\", arr[5]) # Element at index 5: 5\n",
        "print(\"Slice from index 5 to 8:\", arr[5:8]) # Slice from index 5 to 8: [5 6 7]\n",
        "\n",
        "arr[5:8] = 12\n",
        "print(\"Modified array:\", arr) # Modified array: [ 0 1 2 3 4 12 12 12 8 9]\n",
        "\n",
        "# Try 2-D\n",
        "arr_2d = np.array([[1,2,3],[4,5,6]])\n",
        "print(\"Original array:\", arr_2d)\n",
        "print(\"Original array:\", arr_2d.ndim)\n",
        "print(\"Element at index 0:\", arr_2d[0])\n",
        "print(\"Slice from index at 0 form 1 to 3:\", arr_2d[0,1:3])\n",
        "arr_2d[1, 1] = 12\n",
        "print(\"Modified array:\", arr_2d)"
      ],
      "metadata": {
        "colab": {
          "base_uri": "https://localhost:8080/"
        },
        "id": "icXaVjPj6OQP",
        "outputId": "7c8bf664-e329-4cb1-862e-90b8d4a135f7"
      },
      "execution_count": 5,
      "outputs": [
        {
          "output_type": "stream",
          "name": "stdout",
          "text": [
            "Original array: [0 1 2 3 4 5 6 7 8 9]\n",
            "Element at index 5: 5\n",
            "Slice from index 5 to 8: [5 6 7]\n",
            "Modified array: [ 0  1  2  3  4 12 12 12  8  9]\n",
            "Original array: [[1 2 3]\n",
            " [4 5 6]]\n",
            "Original array: 2\n",
            "Element at index 0: [1 2 3]\n",
            "Slice from index at 0 form 1 to 3: [2 3]\n",
            "Modified array: [[ 1  2  3]\n",
            " [ 4 12  6]]\n"
          ]
        }
      ]
    },
    {
      "cell_type": "code",
      "source": [
        "# Create a 2D array\n",
        "arr = np.array([[1, 2, 3, 4],\n",
        "                [5, 6, 7, 8],\n",
        "                [9, 10, 11, 12]])\n",
        "print(\"Original Array:\\n\", arr)\n",
        "\n",
        "# Slice the first row\n",
        "row_slice = arr[0, :] # Equivalent to arr[0]\n",
        "\n",
        "# Slice the second column\n",
        "col_slice = arr[:, 1]\n",
        "\n",
        "# Slice a submatrix (rows 1-2, columns 2-3)\n",
        "submatrix = arr[1:3, 2:4]\n",
        "\n",
        "print(\"\\nFirst Row:\", row_slice)\n",
        "print(\"Second Column:\", col_slice)\n",
        "print(\"Submatrix:\\n\", submatrix)"
      ],
      "metadata": {
        "colab": {
          "base_uri": "https://localhost:8080/"
        },
        "id": "ER0gDwkR7_hk",
        "outputId": "9ed6f778-3551-4f0e-b541-dfd4c122b80e"
      },
      "execution_count": 6,
      "outputs": [
        {
          "output_type": "stream",
          "name": "stdout",
          "text": [
            "Original Array:\n",
            " [[ 1  2  3  4]\n",
            " [ 5  6  7  8]\n",
            " [ 9 10 11 12]]\n",
            "\n",
            "First Row: [1 2 3 4]\n",
            "Second Column: [ 2  6 10]\n",
            "Submatrix:\n",
            " [[ 7  8]\n",
            " [11 12]]\n"
          ]
        }
      ]
    },
    {
      "cell_type": "code",
      "source": [
        "import numpy as np\n",
        "\n",
        "arr_3 = np.array([[1., 2., 3.], [4., 5., 6.], [7., 8., 9.], [1., 3., 5.]])\n",
        "arr_tranp = arr_3.transpose()\n",
        "\n",
        "print(\"Original matrix:\\n\", arr_3)\n",
        "print(\"Transpose matrix:\\n\", arr_tranp)\n",
        "\n",
        "# Try:\n",
        "arr_3.shape\n",
        "arr_3.T\n",
        "arr_3.T.shape"
      ],
      "metadata": {
        "colab": {
          "base_uri": "https://localhost:8080/"
        },
        "id": "a3mIHrYu8TJW",
        "outputId": "231e1eb1-9df9-40fd-96f8-4bb4ffb0188e"
      },
      "execution_count": 7,
      "outputs": [
        {
          "output_type": "stream",
          "name": "stdout",
          "text": [
            "Original matrix:\n",
            " [[1. 2. 3.]\n",
            " [4. 5. 6.]\n",
            " [7. 8. 9.]\n",
            " [1. 3. 5.]]\n",
            "Transpose matrix:\n",
            " [[1. 4. 7. 1.]\n",
            " [2. 5. 8. 3.]\n",
            " [3. 6. 9. 5.]]\n"
          ]
        },
        {
          "output_type": "execute_result",
          "data": {
            "text/plain": [
              "(3, 4)"
            ]
          },
          "metadata": {},
          "execution_count": 7
        }
      ]
    },
    {
      "cell_type": "code",
      "source": [
        "arr = np.array([5, 2, 8, 1, 3])\n",
        "arr2D = np.array([[3, 2, 1], [6, 5, 4]])\n",
        "# Sorting in ascending order (default)\n",
        "sorted_arr = np.sort(arr)\n",
        "print(sorted_arr) # Output: [1 2 3 5 8]\n",
        "# Sorting in descending order\n",
        "sorted_desc = np.sort(arr)[::-1]\n",
        "print(sorted_desc) # Output: [8 5 3 2 1]\n",
        "# Sort each row\n",
        "sorted_rows = np.sort(arr2D, axis=0) # [[1 2 3]\n",
        "print(sorted_rows) # [4 5 6]]\n",
        "# Sort each row # Output:\n",
        "sorted_cols = np.sort(arr2D, axis=1) # [[3 2 1]\n",
        "print(sorted_cols) # [6 5 4]]"
      ],
      "metadata": {
        "colab": {
          "base_uri": "https://localhost:8080/"
        },
        "id": "RQxO8zHH-TG2",
        "outputId": "d2ed697f-9144-4ca6-f35a-3be7573e2a97"
      },
      "execution_count": 8,
      "outputs": [
        {
          "output_type": "stream",
          "name": "stdout",
          "text": [
            "[1 2 3 5 8]\n",
            "[8 5 3 2 1]\n",
            "[[3 2 1]\n",
            " [6 5 4]]\n",
            "[[1 2 3]\n",
            " [4 5 6]]\n"
          ]
        }
      ]
    },
    {
      "cell_type": "code",
      "source": [
        "arr = np.arange(26)\n",
        "\n",
        "reshaped_arr = arr.reshape(4, 2)\n",
        "print(\"Original Array (1D):\\n\", arr)\n",
        "print(\"Reshaped Array (4x2):\\n\", reshaped_arr)\n",
        "\n",
        "reshaped_arr_3D = arr.reshape(2, 7, 8)\n",
        "print(\"Reshaped Array (7x8x9):\\n\", reshaped_arr_3D)"
      ],
      "metadata": {
        "colab": {
          "base_uri": "https://localhost:8080/",
          "height": 216
        },
        "id": "f2RQcS8S_wm2",
        "outputId": "d6ca8a72-72fa-4f09-dcc8-aa3f8f4d070d"
      },
      "execution_count": 12,
      "outputs": [
        {
          "output_type": "error",
          "ename": "ValueError",
          "evalue": "cannot reshape array of size 26 into shape (4,2)",
          "traceback": [
            "\u001b[0;31m---------------------------------------------------------------------------\u001b[0m",
            "\u001b[0;31mValueError\u001b[0m                                Traceback (most recent call last)",
            "\u001b[0;32m<ipython-input-12-3013a506e487>\u001b[0m in \u001b[0;36m<cell line: 0>\u001b[0;34m()\u001b[0m\n\u001b[1;32m      1\u001b[0m \u001b[0marr\u001b[0m \u001b[0;34m=\u001b[0m \u001b[0mnp\u001b[0m\u001b[0;34m.\u001b[0m\u001b[0marange\u001b[0m\u001b[0;34m(\u001b[0m\u001b[0;36m26\u001b[0m\u001b[0;34m)\u001b[0m\u001b[0;34m\u001b[0m\u001b[0;34m\u001b[0m\u001b[0m\n\u001b[1;32m      2\u001b[0m \u001b[0;34m\u001b[0m\u001b[0m\n\u001b[0;32m----> 3\u001b[0;31m \u001b[0mreshaped_arr\u001b[0m \u001b[0;34m=\u001b[0m \u001b[0marr\u001b[0m\u001b[0;34m.\u001b[0m\u001b[0mreshape\u001b[0m\u001b[0;34m(\u001b[0m\u001b[0;36m4\u001b[0m\u001b[0;34m,\u001b[0m \u001b[0;36m2\u001b[0m\u001b[0;34m)\u001b[0m\u001b[0;34m\u001b[0m\u001b[0;34m\u001b[0m\u001b[0m\n\u001b[0m\u001b[1;32m      4\u001b[0m \u001b[0mprint\u001b[0m\u001b[0;34m(\u001b[0m\u001b[0;34m\"Original Array (1D):\\n\"\u001b[0m\u001b[0;34m,\u001b[0m \u001b[0marr\u001b[0m\u001b[0;34m)\u001b[0m\u001b[0;34m\u001b[0m\u001b[0;34m\u001b[0m\u001b[0m\n\u001b[1;32m      5\u001b[0m \u001b[0mprint\u001b[0m\u001b[0;34m(\u001b[0m\u001b[0;34m\"Reshaped Array (4x2):\\n\"\u001b[0m\u001b[0;34m,\u001b[0m \u001b[0mreshaped_arr\u001b[0m\u001b[0;34m)\u001b[0m\u001b[0;34m\u001b[0m\u001b[0;34m\u001b[0m\u001b[0m\n",
            "\u001b[0;31mValueError\u001b[0m: cannot reshape array of size 26 into shape (4,2)"
          ]
        }
      ]
    },
    {
      "cell_type": "code",
      "source": [
        "import numpy as np\n",
        "\n",
        "arr = np.arange(26)\n",
        "\n",
        "reshaped_arr = arr.reshape(2, 13)\n",
        "print(\"Original Array (1D):\\n\", arr)\n",
        "print(\"Reshaped Array (2x13):\\n\", reshaped_arr)\n",
        "\n",
        "\n",
        "reshaped_arr_3D = arr.reshape(2, 1, -1)\n",
        "print(\"Reshaped Array (2, 1, 13):\\n\", reshaped_arr_3D)"
      ],
      "metadata": {
        "colab": {
          "base_uri": "https://localhost:8080/"
        },
        "id": "UB-oNa8NAwuQ",
        "outputId": "56b2e89f-9215-4884-d488-8c3ad52bbc08"
      },
      "execution_count": 17,
      "outputs": [
        {
          "output_type": "stream",
          "name": "stdout",
          "text": [
            "Original Array (1D):\n",
            " [ 0  1  2  3  4  5  6  7  8  9 10 11 12 13 14 15 16 17 18 19 20 21 22 23\n",
            " 24 25]\n",
            "Reshaped Array (2x13):\n",
            " [[ 0  1  2  3  4  5  6  7  8  9 10 11 12]\n",
            " [13 14 15 16 17 18 19 20 21 22 23 24 25]]\n",
            "Reshaped Array (2, 1, 13):\n",
            " [[[ 0  1  2  3  4  5  6  7  8  9 10 11 12]]\n",
            "\n",
            " [[13 14 15 16 17 18 19 20 21 22 23 24 25]]]\n"
          ]
        }
      ]
    }
  ]
}